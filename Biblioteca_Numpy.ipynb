{
  "nbformat": 4,
  "nbformat_minor": 0,
  "metadata": {
    "colab": {
      "provenance": [],
      "authorship_tag": "ABX9TyP/2xBHtZ9RzWXTG3qz6hg5",
      "include_colab_link": true
    },
    "kernelspec": {
      "name": "python3",
      "display_name": "Python 3"
    },
    "language_info": {
      "name": "python"
    }
  },
  "cells": [
    {
      "cell_type": "markdown",
      "metadata": {
        "id": "view-in-github",
        "colab_type": "text"
      },
      "source": [
        "<a href=\"https://colab.research.google.com/github/Maurimrs/INT_DS_UNIVESP/blob/main/Biblioteca_Numpy.ipynb\" target=\"_parent\"><img src=\"https://colab.research.google.com/assets/colab-badge.svg\" alt=\"Open In Colab\"/></a>"
      ]
    },
    {
      "cell_type": "markdown",
      "source": [
        "importa a biblioteca numpy"
      ],
      "metadata": {
        "id": "E9YmOyxOOqvF"
      }
    },
    {
      "cell_type": "code",
      "execution_count": null,
      "metadata": {
        "id": "VL9jUXUgKfz0"
      },
      "outputs": [],
      "source": [
        "import numpy as np\n"
      ]
    },
    {
      "cell_type": "markdown",
      "source": [
        "Gerar dados aleatórios\n"
      ],
      "metadata": {
        "id": "bXdZZcSDKoje"
      }
    },
    {
      "cell_type": "markdown",
      "source": [
        "Gerar um NDArray de 2x3 (duas listas com 3 elementos\n"
      ],
      "metadata": {
        "id": "EVVrl0uWLgVd"
      }
    },
    {
      "cell_type": "code",
      "source": [
        "dados=np.random.rand(2,3)\n",
        "\n",
        "dados"
      ],
      "metadata": {
        "colab": {
          "base_uri": "https://localhost:8080/"
        },
        "id": "2EYGsI18O5OY",
        "outputId": "2ada4890-e7c8-4ca3-9049-448d49a1c04d"
      },
      "execution_count": null,
      "outputs": [
        {
          "output_type": "execute_result",
          "data": {
            "text/plain": [
              "array([[0.90077812, 0.04464063, 0.81482597],\n",
              "       [0.43999606, 0.40774743, 0.90016055]])"
            ]
          },
          "metadata": {},
          "execution_count": 6
        }
      ]
    },
    {
      "cell_type": "markdown",
      "source": [
        "tipo de array\n",
        "\n",
        "\n"
      ],
      "metadata": {
        "id": "cEDEBb32Pgk7"
      }
    },
    {
      "cell_type": "code",
      "source": [
        "dados.dtype"
      ],
      "metadata": {
        "colab": {
          "base_uri": "https://localhost:8080/"
        },
        "id": "nFL8zCYKPj1S",
        "outputId": "8b9a240a-2eb3-4021-ad8c-13402fff0171"
      },
      "execution_count": null,
      "outputs": [
        {
          "output_type": "execute_result",
          "data": {
            "text/plain": [
              "dtype('float64')"
            ]
          },
          "metadata": {},
          "execution_count": 7
        }
      ]
    },
    {
      "cell_type": "markdown",
      "source": [
        "Tamanho e quantidade de dimensões"
      ],
      "metadata": {
        "id": "u9Kf3EU_Pzqn"
      }
    },
    {
      "cell_type": "code",
      "source": [
        "#serve para ver qual o tamanho e dimensão de qualquer array\n",
        "dados.shape\n",
        "\n"
      ],
      "metadata": {
        "colab": {
          "base_uri": "https://localhost:8080/"
        },
        "id": "mIG9gJo0P-dC",
        "outputId": "2ad74ad5-36b8-4881-8bf3-37f13497ad8e"
      },
      "execution_count": null,
      "outputs": [
        {
          "output_type": "execute_result",
          "data": {
            "text/plain": [
              "(2, 3)"
            ]
          },
          "metadata": {},
          "execution_count": 13
        }
      ]
    },
    {
      "cell_type": "code",
      "source": [
        "#serve para ver quantas dimensões ele tem\n",
        "dados.ndim\n"
      ],
      "metadata": {
        "colab": {
          "base_uri": "https://localhost:8080/"
        },
        "id": "X5gK88CVQMl3",
        "outputId": "976ad651-4738-4b95-bbaa-58268afcc01b"
      },
      "execution_count": null,
      "outputs": [
        {
          "output_type": "execute_result",
          "data": {
            "text/plain": [
              "2"
            ]
          },
          "metadata": {},
          "execution_count": 14
        }
      ]
    },
    {
      "cell_type": "code",
      "source": [
        "#criar NDArray usando a função array\n",
        "#ao criar o array a função array tenta utilizar o melhor tipo de dado\n",
        "\n",
        "lista=[1,2,3,4,5,6,7,8,9,30.1]"
      ],
      "metadata": {
        "id": "pPpLonoiQlOL"
      },
      "execution_count": null,
      "outputs": []
    },
    {
      "cell_type": "code",
      "source": [
        "dados2=np.array(lista)\n",
        "dados2\n"
      ],
      "metadata": {
        "colab": {
          "base_uri": "https://localhost:8080/"
        },
        "id": "Rd5tfXz8Q_JD",
        "outputId": "d7e4f756-3245-4f97-8a59-cd697f0fddf1"
      },
      "execution_count": null,
      "outputs": [
        {
          "output_type": "execute_result",
          "data": {
            "text/plain": [
              "array([ 1. ,  2. ,  3. ,  4. ,  5. ,  6. ,  7. ,  8. ,  9. , 30.1])"
            ]
          },
          "metadata": {},
          "execution_count": 19
        }
      ]
    },
    {
      "cell_type": "code",
      "source": [
        "lista2=[1,3,45,5,76,7.1],[2,4,5,6,7,8]"
      ],
      "metadata": {
        "id": "UKEBrYxgROwn"
      },
      "execution_count": null,
      "outputs": []
    },
    {
      "cell_type": "code",
      "source": [
        "dados3=np.array(lista2)\n",
        "\n",
        "dados3"
      ],
      "metadata": {
        "colab": {
          "base_uri": "https://localhost:8080/"
        },
        "id": "lmOzc9aJRZU0",
        "outputId": "6b16c6a0-0dc7-43be-9762-cacb21ace4c1"
      },
      "execution_count": null,
      "outputs": [
        {
          "output_type": "execute_result",
          "data": {
            "text/plain": [
              "array([[ 1. ,  3. , 45. ,  5. , 76. ,  7.1],\n",
              "       [ 2. ,  4. ,  5. ,  6. ,  7. ,  8. ]])"
            ]
          },
          "metadata": {},
          "execution_count": 24
        }
      ]
    },
    {
      "cell_type": "code",
      "source": [
        "#outra maneiras de criar arrays\n",
        "\n",
        "#dados com valor 0\n",
        "\n",
        "dadoszero=np.zeros(10)\n",
        "dadoszero"
      ],
      "metadata": {
        "colab": {
          "base_uri": "https://localhost:8080/"
        },
        "id": "ObXCzHe_RvTd",
        "outputId": "915390a7-a94b-4e98-e9f6-330c478cb6ca"
      },
      "execution_count": null,
      "outputs": [
        {
          "output_type": "execute_result",
          "data": {
            "text/plain": [
              "array([0., 0., 0., 0., 0., 0., 0., 0., 0., 0.])"
            ]
          },
          "metadata": {},
          "execution_count": 28
        }
      ]
    },
    {
      "cell_type": "code",
      "source": [
        "dadoszero2=np.zeros((2,3))\n",
        "dadoszero2\n"
      ],
      "metadata": {
        "colab": {
          "base_uri": "https://localhost:8080/"
        },
        "id": "FmtP_pMkR8Gg",
        "outputId": "79123324-2d9e-47a7-e17b-c1bcb8e5c4c6"
      },
      "execution_count": null,
      "outputs": [
        {
          "output_type": "execute_result",
          "data": {
            "text/plain": [
              "array([[0., 0., 0.],\n",
              "       [0., 0., 0.]])"
            ]
          },
          "metadata": {},
          "execution_count": 33
        }
      ]
    },
    {
      "cell_type": "code",
      "source": [
        "#dados com valor 1\n",
        "dadosum=np.ones(5)\n",
        "\n",
        "dadosum\n"
      ],
      "metadata": {
        "colab": {
          "base_uri": "https://localhost:8080/"
        },
        "id": "13ldaBMfSMSG",
        "outputId": "54aa353c-fca2-4da6-b961-4bbb5b2c7cef"
      },
      "execution_count": null,
      "outputs": [
        {
          "output_type": "execute_result",
          "data": {
            "text/plain": [
              "array([1., 1., 1., 1., 1.])"
            ]
          },
          "metadata": {},
          "execution_count": 36
        }
      ]
    },
    {
      "cell_type": "code",
      "source": [
        "#dados em sequencia\n",
        "\n",
        "dadosseq=np.arange(10)\n",
        "dadosseq"
      ],
      "metadata": {
        "colab": {
          "base_uri": "https://localhost:8080/"
        },
        "id": "LeWsPissSb2_",
        "outputId": "eec5c573-3cd6-43ab-9f42-6ecbb972a257"
      },
      "execution_count": null,
      "outputs": [
        {
          "output_type": "execute_result",
          "data": {
            "text/plain": [
              "array([0, 1, 2, 3, 4, 5, 6, 7, 8, 9])"
            ]
          },
          "metadata": {},
          "execution_count": 40
        }
      ]
    },
    {
      "cell_type": "code",
      "source": [
        "dadosseq2=np.arange(0,20,2)\n",
        "dadosseq2"
      ],
      "metadata": {
        "colab": {
          "base_uri": "https://localhost:8080/"
        },
        "id": "PdWMPLYhSoGP",
        "outputId": "a3b4b5ce-d350-4059-ecc9-9dcc0072e131"
      },
      "execution_count": null,
      "outputs": [
        {
          "output_type": "execute_result",
          "data": {
            "text/plain": [
              "array([ 0,  2,  4,  6,  8, 10, 12, 14, 16, 18])"
            ]
          },
          "metadata": {},
          "execution_count": 43
        }
      ]
    },
    {
      "cell_type": "code",
      "source": [
        "dadosseq.dtype"
      ],
      "metadata": {
        "colab": {
          "base_uri": "https://localhost:8080/"
        },
        "id": "7RSYYh2MS2NX",
        "outputId": "c18315b6-6711-41e0-f616-1d6e7d050205"
      },
      "execution_count": null,
      "outputs": [
        {
          "output_type": "execute_result",
          "data": {
            "text/plain": [
              "dtype('int64')"
            ]
          },
          "metadata": {},
          "execution_count": 45
        }
      ]
    },
    {
      "cell_type": "code",
      "source": [
        "#transformar o tipo\n",
        "\n",
        "dadosseqf=dadosseq.astype(np.float64)"
      ],
      "metadata": {
        "id": "nQPERf3qS4pl"
      },
      "execution_count": null,
      "outputs": []
    },
    {
      "cell_type": "code",
      "source": [
        "dadosseqf.dtype"
      ],
      "metadata": {
        "colab": {
          "base_uri": "https://localhost:8080/"
        },
        "id": "GckYqqWJTJVl",
        "outputId": "2c097ec3-c67c-45d6-a3b1-f60c8c820535"
      },
      "execution_count": null,
      "outputs": [
        {
          "output_type": "execute_result",
          "data": {
            "text/plain": [
              "dtype('float64')"
            ]
          },
          "metadata": {},
          "execution_count": 50
        }
      ]
    },
    {
      "cell_type": "code",
      "source": [
        "#aritmetica com arrays\n",
        "\n",
        "dados4=np.array([[1,2,3],[4,5,6]])"
      ],
      "metadata": {
        "id": "ZGRDptdTTQDT"
      },
      "execution_count": null,
      "outputs": []
    },
    {
      "cell_type": "code",
      "source": [
        "dados4*dados4"
      ],
      "metadata": {
        "colab": {
          "base_uri": "https://localhost:8080/"
        },
        "id": "G9bJGDtzTf_u",
        "outputId": "07da1492-f6bd-4e7f-baee-95f4ad763e47"
      },
      "execution_count": null,
      "outputs": [
        {
          "output_type": "execute_result",
          "data": {
            "text/plain": [
              "array([[ 1,  4,  9],\n",
              "       [16, 25, 36]])"
            ]
          },
          "metadata": {},
          "execution_count": 53
        }
      ]
    },
    {
      "cell_type": "code",
      "source": [
        "dados4-dados4"
      ],
      "metadata": {
        "colab": {
          "base_uri": "https://localhost:8080/"
        },
        "id": "iPMVjje-TjDl",
        "outputId": "82f3cf51-8e01-42e9-954f-6d9cf2c7e60f"
      },
      "execution_count": null,
      "outputs": [
        {
          "output_type": "execute_result",
          "data": {
            "text/plain": [
              "array([[0, 0, 0],\n",
              "       [0, 0, 0]])"
            ]
          },
          "metadata": {},
          "execution_count": 54
        }
      ]
    },
    {
      "cell_type": "code",
      "source": [
        "1/dados4"
      ],
      "metadata": {
        "colab": {
          "base_uri": "https://localhost:8080/"
        },
        "id": "VYQ2i0daT2oF",
        "outputId": "1b148bba-e4f3-460e-e61e-56a777e35001"
      },
      "execution_count": null,
      "outputs": [
        {
          "output_type": "execute_result",
          "data": {
            "text/plain": [
              "array([[1.        , 0.5       , 0.33333333],\n",
              "       [0.25      , 0.2       , 0.16666667]])"
            ]
          },
          "metadata": {},
          "execution_count": 55
        }
      ]
    },
    {
      "cell_type": "code",
      "source": [
        "dados5=dados4+dados4"
      ],
      "metadata": {
        "id": "zO9rkmkET6M-"
      },
      "execution_count": null,
      "outputs": []
    },
    {
      "cell_type": "code",
      "source": [
        "dados5>dados4"
      ],
      "metadata": {
        "colab": {
          "base_uri": "https://localhost:8080/"
        },
        "id": "EvLmnaQ9UASm",
        "outputId": "c3ede232-465f-4aae-fe36-1138c1f0d708"
      },
      "execution_count": null,
      "outputs": [
        {
          "output_type": "execute_result",
          "data": {
            "text/plain": [
              "array([[ True,  True,  True],\n",
              "       [ True,  True,  True]])"
            ]
          },
          "metadata": {},
          "execution_count": 61
        }
      ]
    },
    {
      "cell_type": "code",
      "source": [
        "#indexação\n",
        "\n",
        "dadosseq"
      ],
      "metadata": {
        "colab": {
          "base_uri": "https://localhost:8080/"
        },
        "id": "jZjolDi9ULaG",
        "outputId": "3544acb4-c60e-4698-a658-fd784fed774d"
      },
      "execution_count": null,
      "outputs": [
        {
          "output_type": "execute_result",
          "data": {
            "text/plain": [
              "array([0, 1, 2, 3, 4, 5, 6, 7, 8, 9])"
            ]
          },
          "metadata": {},
          "execution_count": 63
        }
      ]
    },
    {
      "cell_type": "code",
      "source": [
        "dadosseq[5]"
      ],
      "metadata": {
        "colab": {
          "base_uri": "https://localhost:8080/"
        },
        "id": "gXCLLRhZUP_a",
        "outputId": "4fea71d0-2ee6-4f7e-aa6f-ab328c36593b"
      },
      "execution_count": null,
      "outputs": [
        {
          "output_type": "execute_result",
          "data": {
            "text/plain": [
              "5"
            ]
          },
          "metadata": {},
          "execution_count": 65
        }
      ]
    },
    {
      "cell_type": "markdown",
      "source": [
        "Diferente de uma lista python, um recorte (fatia) de um ndarray sofrera broadcast - é como se fosse uma view de banco de dados\n",
        "\n",
        "com conjuntos imensos de dados isso é uma grande vantagem em relação a performance"
      ],
      "metadata": {
        "id": "DlpyWj2GUbrz"
      }
    },
    {
      "cell_type": "code",
      "source": [
        "dadosseq[3:6]"
      ],
      "metadata": {
        "colab": {
          "base_uri": "https://localhost:8080/"
        },
        "id": "wGw2_PGfUapn",
        "outputId": "13954941-c611-4c72-bc9c-05efc45c9dca"
      },
      "execution_count": null,
      "outputs": [
        {
          "output_type": "execute_result",
          "data": {
            "text/plain": [
              "array([3, 4, 5])"
            ]
          },
          "metadata": {},
          "execution_count": 67
        }
      ]
    },
    {
      "cell_type": "code",
      "source": [
        "dadosseq[3:6]=20"
      ],
      "metadata": {
        "id": "cBi3TPOWU255"
      },
      "execution_count": null,
      "outputs": []
    },
    {
      "cell_type": "code",
      "source": [
        "dadosseq"
      ],
      "metadata": {
        "colab": {
          "base_uri": "https://localhost:8080/"
        },
        "id": "57F-nrnbU67g",
        "outputId": "5e810805-9528-416c-d1c0-521882c92933"
      },
      "execution_count": null,
      "outputs": [
        {
          "output_type": "execute_result",
          "data": {
            "text/plain": [
              "array([ 0,  1,  2, 20, 20, 20,  6,  7,  8,  9])"
            ]
          },
          "metadata": {},
          "execution_count": 71
        }
      ]
    },
    {
      "cell_type": "code",
      "source": [
        "fatiadados=dadosseq[2:4]"
      ],
      "metadata": {
        "id": "EGT6qBUeU-JT"
      },
      "execution_count": null,
      "outputs": []
    },
    {
      "cell_type": "code",
      "source": [
        "fatiadados"
      ],
      "metadata": {
        "colab": {
          "base_uri": "https://localhost:8080/"
        },
        "id": "YtaNcu7bVBmP",
        "outputId": "dfaeea0c-b25a-4daa-fb78-7d50a588b872"
      },
      "execution_count": null,
      "outputs": [
        {
          "output_type": "execute_result",
          "data": {
            "text/plain": [
              "array([ 2, 20])"
            ]
          },
          "metadata": {},
          "execution_count": 77
        }
      ]
    },
    {
      "cell_type": "code",
      "source": [
        "fatiadados[1]=2000\n",
        "fatiadados"
      ],
      "metadata": {
        "colab": {
          "base_uri": "https://localhost:8080/"
        },
        "id": "WNssC-7rVJaX",
        "outputId": "318727c0-d059-4580-f142-d201e4d47b34"
      },
      "execution_count": null,
      "outputs": [
        {
          "output_type": "execute_result",
          "data": {
            "text/plain": [
              "array([   2, 2000])"
            ]
          },
          "metadata": {},
          "execution_count": 80
        }
      ]
    },
    {
      "cell_type": "code",
      "source": [
        "fatiadados"
      ],
      "metadata": {
        "colab": {
          "base_uri": "https://localhost:8080/"
        },
        "id": "NRxFOf0uVOi3",
        "outputId": "1c31e8be-3500-4d90-e5dd-8c69f7e39d3f"
      },
      "execution_count": null,
      "outputs": [
        {
          "output_type": "execute_result",
          "data": {
            "text/plain": [
              "array([   2, 2000])"
            ]
          },
          "metadata": {},
          "execution_count": 81
        }
      ]
    },
    {
      "cell_type": "code",
      "source": [
        "dadosseq"
      ],
      "metadata": {
        "colab": {
          "base_uri": "https://localhost:8080/"
        },
        "id": "8mGCV0wzVQGG",
        "outputId": "3b29dfc8-0cb2-4050-bae4-b0d3d08e606d"
      },
      "execution_count": null,
      "outputs": [
        {
          "output_type": "execute_result",
          "data": {
            "text/plain": [
              "array([   0,    1,    2, 2000,   20,   20,    6,    7,    8,    9])"
            ]
          },
          "metadata": {},
          "execution_count": 83
        }
      ]
    },
    {
      "cell_type": "code",
      "source": [
        "#copiar dados\n",
        "\n",
        "fatia2=dadosseq[2:4].copy()\n",
        "fatia2"
      ],
      "metadata": {
        "colab": {
          "base_uri": "https://localhost:8080/"
        },
        "id": "QrPZZ0BPVZxv",
        "outputId": "3e008f45-ba80-4eff-93c5-6e9323b9806d"
      },
      "execution_count": null,
      "outputs": [
        {
          "output_type": "execute_result",
          "data": {
            "text/plain": [
              "array([   2, 2000])"
            ]
          },
          "metadata": {},
          "execution_count": 86
        }
      ]
    },
    {
      "cell_type": "code",
      "source": [
        "fatia2[:]=111\n",
        "fatia2\n"
      ],
      "metadata": {
        "colab": {
          "base_uri": "https://localhost:8080/"
        },
        "id": "rG4qFAp9VjhB",
        "outputId": "05b683dc-699e-4e7f-e61f-5aa976d3fcb2"
      },
      "execution_count": null,
      "outputs": [
        {
          "output_type": "execute_result",
          "data": {
            "text/plain": [
              "array([111, 111])"
            ]
          },
          "metadata": {},
          "execution_count": 90
        }
      ]
    },
    {
      "cell_type": "code",
      "source": [
        "#array com mais de uma dimensão\n",
        "\n",
        "dados6=np.array([[1,2,3],[4,5,6],[7,8,9]])\n",
        "#sempre a linha ou coluna se inicia em 0\n",
        "dados6\n"
      ],
      "metadata": {
        "colab": {
          "base_uri": "https://localhost:8080/"
        },
        "id": "KbzJpdHBVvCn",
        "outputId": "b7ab51be-cf47-4fd0-c1c2-9594db6e8078"
      },
      "execution_count": null,
      "outputs": [
        {
          "output_type": "execute_result",
          "data": {
            "text/plain": [
              "array([[1, 2, 3],\n",
              "       [4, 5, 6],\n",
              "       [7, 8, 9]])"
            ]
          },
          "metadata": {},
          "execution_count": 92
        }
      ]
    },
    {
      "cell_type": "code",
      "source": [
        "dados6[1,2]"
      ],
      "metadata": {
        "colab": {
          "base_uri": "https://localhost:8080/"
        },
        "id": "R-DV73f3WDFH",
        "outputId": "f35a7133-1784-472d-8f9f-16e02270e3ed"
      },
      "execution_count": null,
      "outputs": [
        {
          "output_type": "execute_result",
          "data": {
            "text/plain": [
              "6"
            ]
          },
          "metadata": {},
          "execution_count": 94
        }
      ]
    },
    {
      "cell_type": "code",
      "source": [
        "#mascaras\n",
        "\n",
        "dadosseq"
      ],
      "metadata": {
        "colab": {
          "base_uri": "https://localhost:8080/"
        },
        "id": "HZWNJ1hRWY-f",
        "outputId": "28bb2555-147b-40e9-c57a-8a9cd617819e"
      },
      "execution_count": null,
      "outputs": [
        {
          "output_type": "execute_result",
          "data": {
            "text/plain": [
              "array([   0,    1,    2, 2000,   20,   20,    6,    7,    8,    9])"
            ]
          },
          "metadata": {},
          "execution_count": 96
        }
      ]
    },
    {
      "cell_type": "code",
      "source": [
        "mascara=(dadosseq<100)\n",
        "mascara"
      ],
      "metadata": {
        "colab": {
          "base_uri": "https://localhost:8080/"
        },
        "id": "MawLImaTWcCv",
        "outputId": "de89d30d-390c-4288-d90c-be9325635808"
      },
      "execution_count": null,
      "outputs": [
        {
          "output_type": "execute_result",
          "data": {
            "text/plain": [
              "array([ True,  True,  True, False,  True,  True,  True,  True,  True,\n",
              "        True])"
            ]
          },
          "metadata": {},
          "execution_count": 99
        }
      ]
    },
    {
      "cell_type": "code",
      "source": [
        "#vai atribuir 8888 para cada valor que for menor que 20\n",
        "dadosseq[dadosseq<20]=8888\n",
        "dadosseq"
      ],
      "metadata": {
        "colab": {
          "base_uri": "https://localhost:8080/"
        },
        "id": "Xzc4kZqmWk74",
        "outputId": "16ecc2c7-97ca-43e1-8169-d358e94527eb"
      },
      "execution_count": null,
      "outputs": [
        {
          "output_type": "execute_result",
          "data": {
            "text/plain": [
              "array([8888, 8888, 8888, 2000,   20,   20, 8888, 8888, 8888, 8888])"
            ]
          },
          "metadata": {},
          "execution_count": 102
        }
      ]
    },
    {
      "cell_type": "code",
      "source": [
        "#transposição\n",
        "\n",
        "dados7=np.arange(15).reshape((3,5))"
      ],
      "metadata": {
        "id": "8-0uSwghWr65"
      },
      "execution_count": null,
      "outputs": []
    },
    {
      "cell_type": "code",
      "source": [
        "dados7"
      ],
      "metadata": {
        "colab": {
          "base_uri": "https://localhost:8080/"
        },
        "id": "HxZr1BlcW_Eq",
        "outputId": "7525b2d1-fb47-4368-f58f-438b0f3b2414"
      },
      "execution_count": null,
      "outputs": [
        {
          "output_type": "execute_result",
          "data": {
            "text/plain": [
              "array([[ 0,  1,  2,  3,  4],\n",
              "       [ 5,  6,  7,  8,  9],\n",
              "       [10, 11, 12, 13, 14]])"
            ]
          },
          "metadata": {},
          "execution_count": 104
        }
      ]
    },
    {
      "cell_type": "code",
      "source": [],
      "metadata": {
        "id": "a3XCbYvrXLN_"
      },
      "execution_count": null,
      "outputs": []
    },
    {
      "cell_type": "code",
      "source": [
        "#.T inverte a matriz\n",
        "dados7.T"
      ],
      "metadata": {
        "id": "-MT0c7YUXBFQ"
      },
      "execution_count": null,
      "outputs": []
    },
    {
      "cell_type": "code",
      "source": [
        "#multiplicação de matrizes com Dots\n",
        "\n",
        "np.dot(dados7.T,dados7)"
      ],
      "metadata": {
        "colab": {
          "base_uri": "https://localhost:8080/"
        },
        "id": "UEmFduw-XJny",
        "outputId": "b856e051-3c0d-464d-ed27-23abe3155868"
      },
      "execution_count": null,
      "outputs": [
        {
          "output_type": "execute_result",
          "data": {
            "text/plain": [
              "array([[125, 140, 155, 170, 185],\n",
              "       [140, 158, 176, 194, 212],\n",
              "       [155, 176, 197, 218, 239],\n",
              "       [170, 194, 218, 242, 266],\n",
              "       [185, 212, 239, 266, 293]])"
            ]
          },
          "metadata": {},
          "execution_count": 107
        }
      ]
    },
    {
      "cell_type": "code",
      "source": [],
      "metadata": {
        "id": "BMfrlIU8XfyD"
      },
      "execution_count": null,
      "outputs": []
    }
  ]
}